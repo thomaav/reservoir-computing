{
 "cells": [
  {
   "cell_type": "code",
   "execution_count": null,
   "metadata": {
    "collapsed": false
   },
   "outputs": [],
   "source": [
    "%load_ext autoreload\n",
    "%autoreload 2"
   ]
  },
  {
   "cell_type": "markdown",
   "metadata": {
    "collapsed": false
   },
   "source": [
    "# Imports"
   ]
  },
  {
   "cell_type": "markdown",
   "metadata": {
    "collapsed": false
   },
   "source": [
    "### Standard imports"
   ]
  },
  {
   "cell_type": "code",
   "execution_count": null,
   "metadata": {
    "collapsed": false
   },
   "outputs": [],
   "source": [
    "%matplotlib inline\n",
    "\n",
    "import matplotlib.pyplot as plt\n",
    "import numpy as np\n",
    "import networkx as nx\n",
    "import pandas as pd\n",
    "from mpl_toolkits.mplot3d import Axes3D"
   ]
  },
  {
   "cell_type": "code",
   "execution_count": null,
   "metadata": {
    "collapsed": false
   },
   "outputs": [],
   "source": [
    "# Important for multiprocessing.\n",
    "import torch\n",
    "torch.set_num_threads(1)"
   ]
  },
  {
   "cell_type": "markdown",
   "metadata": {
    "collapsed": false
   },
   "source": [
    "### Lattice imports"
   ]
  },
  {
   "cell_type": "code",
   "execution_count": null,
   "metadata": {
    "collapsed": false
   },
   "outputs": [],
   "source": [
    "from collections import OrderedDict\n",
    "from gridsearch import experiment, load_experiment"
   ]
  },
  {
   "cell_type": "markdown",
   "metadata": {
    "collapsed": false
   },
   "source": [
    "# Create NARMA dataset"
   ]
  },
  {
   "cell_type": "code",
   "execution_count": null,
   "metadata": {
    "collapsed": false
   },
   "outputs": [],
   "source": [
    "import dataset as ds\n",
    "\n",
    "u_train, y_train = ds.NARMA(sample_len = 2000)\n",
    "u_test, y_test = ds.NARMA(sample_len = 3000)\n",
    "dataset = [u_train, y_train, u_test, y_test]\n",
    "ds.dataset = dataset"
   ]
  },
  {
   "cell_type": "markdown",
   "metadata": {
    "collapsed": false
   },
   "source": [
    "# Waxman graph generation"
   ]
  },
  {
   "cell_type": "code",
   "execution_count": null,
   "metadata": {
    "collapsed": false
   },
   "outputs": [],
   "source": [
    "from matrix import waxman\n",
    "from plot import scatter_3d"
   ]
  },
  {
   "cell_type": "code",
   "execution_count": null,
   "metadata": {
    "collapsed": false
   },
   "outputs": [],
   "source": [
    "from matrix import euclidean\n",
    "\n",
    "# We need names for the distance functions to select them from a pandas\n",
    "# dataframe later.\n",
    "euc = euclidean\n",
    "def inv(x, y): return 1/euclidean(x, y)\n",
    "def inv_squared(x, y): return 1/euclidean(x, y)**2"
   ]
  },
  {
   "cell_type": "markdown",
   "metadata": {
    "collapsed": false
   },
   "source": [
    "### Waxman visualization"
   ]
  },
  {
   "cell_type": "code",
   "execution_count": null,
   "metadata": {
    "collapsed": false,
    "scrolled": false
   },
   "outputs": [],
   "source": [
    "for z_frac in [0.0, 0.5, 1.0]:\n",
    "    G = waxman(n=200, alpha=1.0, beta=1.0, z_frac=z_frac)\n",
    "    scatter_3d(G)"
   ]
  },
  {
   "cell_type": "markdown",
   "metadata": {
    "collapsed": false
   },
   "source": [
    "### Waxman performance with increasing fraction of 3d nodes"
   ]
  },
  {
   "cell_type": "code",
   "execution_count": null,
   "metadata": {
    "collapsed": false
   },
   "outputs": [],
   "source": [
    "%%script false --no-raise-error\n",
    "\n",
    "from metric import esn_nrmse\n",
    "\n",
    "params = OrderedDict()\n",
    "params['w_res_type'] = ['waxman']\n",
    "params['hidden_nodes'] = np.arange(20, 90, 10)\n",
    "params['z_frac'] = np.arange(0.0, 1.2, 0.2)\n",
    "params['directed'] = [True, False]\n",
    "waxman_nrmse_df = experiment(esn_nrmse, params)\n",
    "waxman_nrmse_df.to_pickle('experiments/waxman_nrmse.pkl')"
   ]
  },
  {
   "cell_type": "code",
   "execution_count": null,
   "metadata": {
    "collapsed": false
   },
   "outputs": [],
   "source": [
    "from plot import plot_df_trisurf\n",
    "\n",
    "if 'waxman_nrmse_df' not in locals():\n",
    "    waxman_nrmse_df = load_experiment('experiments/waxman_nrmse.pkl')\n",
    "\n",
    "undirected_df = waxman_nrmse_df.loc[waxman_nrmse_df['directed'] == False]\n",
    "directed_df = waxman_nrmse_df.loc[waxman_nrmse_df['directed'] == True]\n",
    "\n",
    "zlim=(0.5, 1.0)\n",
    "azim=130\n",
    "\n",
    "plot_df_trisurf(df=undirected_df,\n",
    "                groupby=['hidden_nodes', 'z_frac'],\n",
    "                axes=['hidden_nodes', 'z_frac', 'esn_nrmse'],\n",
    "                azim=azim, zlim=zlim, title='Undirected')\n",
    "plot_df_trisurf(df=directed_df,\n",
    "                groupby=['hidden_nodes', 'z_frac'],\n",
    "                axes=['hidden_nodes', 'z_frac', 'esn_nrmse'],\n",
    "                azim=azim, zlim=zlim, title='Directed')"
   ]
  },
  {
   "cell_type": "markdown",
   "metadata": {
    "collapsed": false
   },
   "source": [
    "There does not seem to be a difference when changing from undirected to directed  \n",
    "graphs, which I attribute to the fact that I think that both methods are  \n",
    "saturating the activations of hidden nodes anyway, so it does not matter.  \n",
    "\n",
    "_Afterthought_ for the above: isn't the spectral radius dealing with that  \n",
    "anyway? It is probably necessary to actually probe the network to tell for sure.  \n",
    "\n",
    "The hypothesis that nodes are being saturated are backed up by the fact that the  \n",
    "error _decreases_ as the networks become smaller, indicating that we are  \n",
    "reaching a point where nodes may begin to desaturate.  "
   ]
  },
  {
   "cell_type": "markdown",
   "metadata": {
    "collapsed": false
   },
   "source": [
    "### Distribution of reservoir weights"
   ]
  },
  {
   "cell_type": "code",
   "execution_count": null,
   "metadata": {
    "collapsed": false
   },
   "outputs": [],
   "source": [
    "from ESN import ESN\n",
    "from plot import plot_esn_weight_hist\n",
    "\n",
    "bins = 40\n",
    "params = {\n",
    "    'hidden_nodes': 50,\n",
    "}\n",
    "\n",
    "plt.title('Reference ESN')\n",
    "plot_esn_weight_hist(params, n_bins=bins, show=True)\n",
    "\n",
    "old_figsize = plt.rcParams[\"figure.figsize\"]\n",
    "plt.rcParams[\"figure.figsize\"] = (14, 6)\n",
    "\n",
    "params = {\n",
    "    'directed': False,\n",
    "    'w_res_type': 'waxman',\n",
    "}\n",
    "\n",
    "# z_frac = 0.0.\n",
    "fig, (ax1, ax2, ax3, ax4) = plt.subplots(1, 4)\n",
    "plt.suptitle('z_frac: 0.0')\n",
    "params['dist_function'] = euc\n",
    "params['z_frac'] = 0.0\n",
    "\n",
    "params['hidden_nodes'] = 20\n",
    "ax1.set_title('hidden_nodes: ' + str(params['hidden_nodes']))\n",
    "plot_esn_weight_hist(params, n_bins=bins, ax=ax1, show=False)\n",
    "params['hidden_nodes'] = 50\n",
    "ax2.set_title('hidden_nodes: ' + str(params['hidden_nodes']))\n",
    "plot_esn_weight_hist(params, n_bins=bins, ax=ax2, show=False)\n",
    "params['dist_function'] = inv\n",
    "ax3.set_title('dist_function: ' + params['dist_function'].__name__)\n",
    "plot_esn_weight_hist(params, n_bins=bins, ax=ax3, show=False)\n",
    "params['dist_function'] = inv_squared\n",
    "ax4.set_title('dist_function: ' + params['dist_function'].__name__)\n",
    "plot_esn_weight_hist(params, n_bins=bins, ax=ax4, show=True)\n",
    "\n",
    "# z_frac = 1.0.\n",
    "fig, (ax1, ax2, ax3, ax4) = plt.subplots(1, 4)\n",
    "plt.suptitle('z_frac: 1.0')\n",
    "params['dist_function'] = euc\n",
    "params['z_frac'] = 1.0\n",
    "\n",
    "params['hidden_nodes'] = 20\n",
    "ax1.set_title('hidden_nodes: ' + str(params['hidden_nodes']))\n",
    "plot_esn_weight_hist(params, n_bins=bins, ax=ax1, show=False)\n",
    "params['hidden_nodes'] = 50\n",
    "ax2.set_title('hidden_nodes: ' + str(params['hidden_nodes']))\n",
    "plot_esn_weight_hist(params, n_bins=bins, ax=ax2, show=False)\n",
    "params['dist_function'] = inv\n",
    "ax3.set_title('dist_function: ' + params['dist_function'].__name__)\n",
    "plot_esn_weight_hist(params, n_bins=bins, ax=ax3, show=False)\n",
    "params['dist_function'] = inv_squared\n",
    "ax4.set_title('dist_function: ' + params['dist_function'].__name__)\n",
    "plot_esn_weight_hist(params, n_bins=bins, ax=ax4, show=True)\n",
    "\n",
    "plt.rcParams[\"figure.figsize\"] = old_figsize"
   ]
  },
  {
   "cell_type": "markdown",
   "metadata": {
    "collapsed": false
   },
   "source": [
    "We see very clearly that the weight distributions are tightened when we increase  \n",
    "the number of nodes of the network (changing from leftmost to second to leftmost  \n",
    "plot), which is caused by the spectral radius scaling to be stricter. However,  \n",
    "this is just scaling by a scalar value.  \n",
    "\n",
    "When the weight function moves from d to 1/d to 1/d, we see that we are shifting  \n",
    "the probability distribution towards many lower weights, with just a few big  \n",
    "ones, which is as expected.  "
   ]
  },
  {
   "cell_type": "markdown",
   "metadata": {
    "collapsed": false
   },
   "source": [
    "### Waxman performance with increasing fraction of negative weights"
   ]
  },
  {
   "cell_type": "code",
   "execution_count": null,
   "metadata": {
    "collapsed": false
   },
   "outputs": [],
   "source": [
    "%%script false --no-raise-error\n",
    "\n",
    "from metric import esn_nrmse\n",
    "\n",
    "params = OrderedDict()\n",
    "params['w_res_type'] = ['waxman']\n",
    "params['z_frac'] = [1.0]\n",
    "params['hidden_nodes'] = np.arange(20, 90, 10)\n",
    "params['sign_frac'] = np.arange(0.0, 0.55, 0.05)\n",
    "params['directed'] = [True, False]\n",
    "waxman_sign_df = experiment(esn_nrmse, params)\n",
    "waxman_sign_df.to_pickle('experiments/waxman_sign.pkl')"
   ]
  },
  {
   "cell_type": "code",
   "execution_count": null,
   "metadata": {
    "collapsed": false
   },
   "outputs": [],
   "source": [
    "from plot import plot_df_trisurf\n",
    "\n",
    "if 'waxman_sign_df' not in locals():\n",
    "    waxman_sign_df = load_experiment('experiments/waxman_sign.pkl')\n",
    "\n",
    "undirected_df = waxman_sign_df.loc[waxman_sign_df['directed'] == False]\n",
    "directed_df = waxman_sign_df.loc[waxman_sign_df['directed'] == True]\n",
    "\n",
    "azim=70\n",
    "zlim=(0.3, 1.0)\n",
    "\n",
    "plot_df_trisurf(df=undirected_df,\n",
    "                groupby=['hidden_nodes', 'sign_frac'],\n",
    "                axes=['hidden_nodes', 'sign_frac', 'esn_nrmse'],\n",
    "                azim=azim, zlim=zlim, title='Undirected')\n",
    "plot_df_trisurf(df=directed_df,\n",
    "                groupby=['hidden_nodes', 'sign_frac'],\n",
    "                axes=['hidden_nodes', 'sign_frac', 'esn_nrmse'],\n",
    "                azim=azim, zlim=zlim, title='Directed')"
   ]
  },
  {
   "cell_type": "markdown",
   "metadata": {
    "collapsed": false
   },
   "source": [
    "We see what happens with the undirected (as we think this to be the most  \n",
    "relevant for physical computing) type of graph in three dimensions, as the  \n",
    "previous results show little difference between 2 and 3 dimensions.  \n",
    "\n",
    "There is a noticeable difference between the directed and undirected graphs  \n",
    "here. Dale et al. investigates this a bit in their paper: «It then becomes clear  \n",
    "that how weights are struc- tured and directed, controlling information flow,  \n",
    "has a greater affect on quality of the network. This supports similar results  \n",
    "using hierarchical networks, where structure and number of parameters also  \n",
    "significantly impact performance [6].»  "
   ]
  },
  {
   "cell_type": "markdown",
   "metadata": {
    "collapsed": false
   },
   "source": [
    "### Waxman performance with changing weight/distance function"
   ]
  },
  {
   "cell_type": "code",
   "execution_count": null,
   "metadata": {
    "collapsed": false
   },
   "outputs": [],
   "source": [
    "# %%script false --no-raise-error\n",
    "\n",
    "from metric import esn_nrmse\n",
    "\n",
    "params = OrderedDict()\n",
    "params['w_res_type'] = ['waxman']\n",
    "params['z_frac'] = np.arange(0.0, 1.2, 0.2)\n",
    "params['hidden_nodes'] = np.arange(20, 90, 10)\n",
    "params['dist_function'] = [euc, inv, inv_squared]\n",
    "waxman_dist_df = experiment(esn_nrmse, params, runs=20)\n",
    "waxman_dist_df.to_pickle('experiments/waxman_dist.pkl')"
   ]
  },
  {
   "cell_type": "code",
   "execution_count": null,
   "metadata": {
    "collapsed": false
   },
   "outputs": [],
   "source": [
    "from plot import plot_df_trisurf\n",
    "\n",
    "if 'waxman_dist_df' not in locals():\n",
    "    waxman_dist_df = load_experiment('experiments/waxman_dist.pkl')\n",
    "\n",
    "waxman_dist_df['dist_function'] = waxman_dist_df['dist_function'].apply(\n",
    "    lambda f: f.__name__ if not isinstance(f, str) else f\n",
    ")\n",
    "\n",
    "euc_df = waxman_dist_df.loc[waxman_dist_df['dist_function'] == euc.__name__]\n",
    "inv_df = waxman_dist_df.loc[waxman_dist_df['dist_function'] == inv.__name__]\n",
    "inv_squared_df = waxman_dist_df.loc[waxman_dist_df['dist_function'] == inv_squared.__name__]\n",
    "\n",
    "zlim=(0.3, 1.0)\n",
    "azim=110\n",
    "\n",
    "for df in [(euc_df, 'd'), (inv_df, '1/d'), (inv_squared_df, '1/d^2')]:\n",
    "    fig = plt.figure(figsize=plt.figaspect(0.4))\n",
    "    ax1 = plt.subplot(1, 2, 1, projection='3d')\n",
    "    ax2 = plt.subplot(1, 2, 2, projection='3d')\n",
    "    axs = [ax1, ax2]\n",
    "\n",
    "    fig.suptitle(df[1])\n",
    "    for i, agg in enumerate(['mean', 'min']):\n",
    "        plot_df_trisurf(df=df[0],\n",
    "                        groupby=['hidden_nodes', 'z_frac'],\n",
    "                        axes=['hidden_nodes', 'z_frac', 'esn_nrmse'],\n",
    "                        agg=agg,\n",
    "                        azim=azim, zlim=zlim,\n",
    "                        title=agg,\n",
    "                        ax=axs[i], show=False)\n",
    "\n",
    "    plt.tight_layout()\n",
    "    plt.show()"
   ]
  },
  {
   "cell_type": "markdown",
   "metadata": {
    "collapsed": false
   },
   "source": [
    "From a short preliminary study: it does not seem like different distance  \n",
    "functions such as d, 1/d, 1/d^2 and 1/d^3 make much of a difference at all. This  \n",
    "was tested both with what's shown above, as well as manually with increased size  \n",
    "of the waxman volume (to ensure that we don't have a majority of <1 elements).  "
   ]
  },
  {
   "cell_type": "markdown",
   "metadata": {
    "collapsed": false
   },
   "source": [
    "Another interesting thing to plot is the probability distribution of the weights  \n",
    "to compare between the dimensionalities.  "
   ]
  },
  {
   "cell_type": "markdown",
   "metadata": {
    "collapsed": false
   },
   "source": [
    "# Lattice/tiling experiments (sq, rect, hex, tri)"
   ]
  },
  {
   "cell_type": "markdown",
   "metadata": {
    "collapsed": false
   },
   "source": [
    "### Plots of lattices"
   ]
  },
  {
   "cell_type": "code",
   "execution_count": null,
   "metadata": {
    "collapsed": false
   },
   "outputs": [],
   "source": [
    "from ESN import ESN\n",
    "from plot import plot_lattice\n",
    "\n",
    "old_figsize = plt.rcParams[\"figure.figsize\"]\n",
    "plt.rcParams[\"figure.figsize\"] = (14, 6)\n",
    "\n",
    "esn_square = ESN(hidden_nodes=25, w_res_type='tetragonal')\n",
    "esn_hex = ESN(hidden_nodes=25, w_res_type='hexagonal')\n",
    "esn_tri = ESN(hidden_nodes=25, w_res_type='triangular')\n",
    "esn_rect = ESN(hidden_nodes=25, w_res_type='rectangular', rect_ratio=2.0)\n",
    "\n",
    "G_square = esn_square.G\n",
    "G_hex = esn_hex.G\n",
    "G_tri = esn_tri.G\n",
    "G_rect = esn_rect.G\n",
    "\n",
    "fig, axs = plt.subplots(2, 2)\n",
    "ax1, ax2, ax3, ax4 = axs[0, 0], axs[0, 1], axs[1, 0], axs[1, 1]\n",
    "plot_lattice(G_square, title='Square', ax=ax1, show=False)\n",
    "plot_lattice(G_hex, title='Hexagonal', ax=ax2, show=False)\n",
    "plot_lattice(G_tri, title='Triangular', ax=ax3, show=False)\n",
    "plot_lattice(G_rect, title='Rectangular', ax=ax4, show=True)\n",
    "\n",
    "plt.rcParams[\"figure.figsize\"] = old_figsize"
   ]
  },
  {
   "cell_type": "markdown",
   "metadata": {
    "collapsed": false
   },
   "source": [
    "### Lattice NRMSE"
   ]
  },
  {
   "cell_type": "code",
   "execution_count": null,
   "metadata": {
    "collapsed": false
   },
   "outputs": [],
   "source": [
    "%%script false --no-raise-error\n",
    "\n",
    "from metric import esn_nrmse\n",
    "\n",
    "params = OrderedDict()\n",
    "params['hidden_nodes'] = [9, 16, 25, 36, 49, 64, 81]\n",
    "params['w_res_type'] = ['tetragonal', 'hexagonal', 'triangular']\n",
    "nrmse_df = experiment(esn_nrmse, params)\n",
    "nrmse_df.to_pickle('experiments/lattice_nrmse.pkl')"
   ]
  },
  {
   "cell_type": "code",
   "execution_count": null,
   "metadata": {
    "collapsed": false
   },
   "outputs": [],
   "source": [
    "if 'nrmse_df' not in locals():\n",
    "    nrmse_df = load_experiment('experiments/lattice_nrmse.pkl')\n",
    "\n",
    "grouped_df = nrmse_df.groupby(['hidden_nodes', 'w_res_type']).mean().reset_index()\n",
    "\n",
    "tetragonal = grouped_df.loc[grouped_df['w_res_type'] == 'tetragonal']\n",
    "hexagonal = grouped_df.loc[grouped_df['w_res_type'] == 'hexagonal']\n",
    "triangular = grouped_df.loc[grouped_df['w_res_type'] == 'triangular']\n",
    "\n",
    "plt.plot(tetragonal['hidden_nodes'], tetragonal['esn_nrmse'], label='sq')\n",
    "plt.plot(hexagonal['hidden_nodes'], hexagonal['esn_nrmse'], label='hex')\n",
    "plt.plot(triangular['hidden_nodes'], triangular['esn_nrmse'], label='tri')\n",
    "\n",
    "plt.legend(fancybox=False, loc='upper right', bbox_to_anchor=(1.0, 1.0))\n",
    "plt.ylabel('NRMSE')\n",
    "plt.xlabel('Hidden nodes')\n",
    "\n",
    "plt.show()"
   ]
  },
  {
   "cell_type": "markdown",
   "metadata": {
    "collapsed": false
   },
   "source": [
    "### Lattice STM"
   ]
  },
  {
   "cell_type": "code",
   "execution_count": null,
   "metadata": {
    "collapsed": false
   },
   "outputs": [],
   "source": [
    "%%script false --no-raise-error\n",
    "\n",
    "from metric import esn_mc\n",
    "\n",
    "params = OrderedDict()\n",
    "params['hidden_nodes'] = [9, 16, 25, 36, 49, 64, 81]\n",
    "params['w_res_type'] = ['tetragonal', 'hexagonal', 'triangular']\n",
    "mc_df = experiment(esn_mc, params)\n",
    "mc_df.to_pickle('experiments/lattice_mc.pkl')"
   ]
  },
  {
   "cell_type": "code",
   "execution_count": null,
   "metadata": {
    "collapsed": false
   },
   "outputs": [],
   "source": [
    "if 'mc_df' not in locals():\n",
    "    mc_df = load_experiment('experiments/lattice_mc.pkl')\n",
    "\n",
    "grouped_df = mc_df.groupby(['hidden_nodes', 'w_res_type']).mean().reset_index()\n",
    "\n",
    "tetragonal = grouped_df.loc[grouped_df['w_res_type'] == 'tetragonal']\n",
    "hexagonal = grouped_df.loc[grouped_df['w_res_type'] == 'hexagonal']\n",
    "triangular = grouped_df.loc[grouped_df['w_res_type'] == 'triangular']\n",
    "\n",
    "plt.plot(tetragonal['hidden_nodes'], tetragonal['esn_mc'], label='sq')\n",
    "plt.plot(hexagonal['hidden_nodes'], hexagonal['esn_mc'], label='hex')\n",
    "plt.plot(triangular['hidden_nodes'], triangular['esn_mc'], label='tri')\n",
    "\n",
    "plt.legend(fancybox=False, loc='upper right', bbox_to_anchor=(1.0, 1.0))\n",
    "plt.ylabel('MC')\n",
    "plt.xlabel('Hidden nodes')\n",
    "\n",
    "plt.show()"
   ]
  },
  {
   "cell_type": "markdown",
   "metadata": {
    "collapsed": false
   },
   "source": [
    "### Lattice input scaling"
   ]
  },
  {
   "cell_type": "code",
   "execution_count": null,
   "metadata": {
    "collapsed": false
   },
   "outputs": [],
   "source": [
    "%%script false --no-raise-error\n",
    "\n",
    "from metric import esn_mc\n",
    "\n",
    "params = OrderedDict()\n",
    "params['hidden_nodes'] = [25, 36, 49, 64, 81]\n",
    "params['input_scaling'] = np.arange(0.1, 2.1, 0.1)\n",
    "params['w_res_type'] = ['tetragonal', 'hexagonal', 'triangular']\n",
    "is_df = experiment(esn_mc, params)\n",
    "is_df.to_pickle('experiments/lattice_input_scaling.pkl')"
   ]
  },
  {
   "cell_type": "code",
   "execution_count": null,
   "metadata": {
    "collapsed": false
   },
   "outputs": [],
   "source": [
    "from plot import plot_df_trisurf\n",
    "\n",
    "if 'is_df' not in locals():\n",
    "    is_df = load_experiment('experiments/lattice_input_scaling.pkl')\n",
    "\n",
    "tetragonal = is_df.loc[is_df['w_res_type'] == 'tetragonal']\n",
    "hexagonal = is_df.loc[is_df['w_res_type'] == 'hexagonal']\n",
    "triangular = is_df.loc[is_df['w_res_type'] == 'triangular']\n",
    "\n",
    "labels = {'x': 'Input scaling', 'y': 'Hidden nodes', 'z': 'MC'}\n",
    "zlim = (5, 15)\n",
    "\n",
    "plot_df_trisurf(df=tetragonal, groupby=['hidden_nodes', 'input_scaling'],\n",
    "                axes=['input_scaling', 'hidden_nodes', 'esn_mc'],\n",
    "                labels=labels, zlim=zlim)\n",
    "\n",
    "plot_df_trisurf(df=hexagonal, groupby=['hidden_nodes', 'input_scaling'],\n",
    "                axes=['input_scaling', 'hidden_nodes', 'esn_mc'],\n",
    "                labels=labels, zlim=zlim)\n",
    "\n",
    "plot_df_trisurf(df=triangular, groupby=['hidden_nodes', 'input_scaling'],\n",
    "                axes=['input_scaling', 'hidden_nodes', 'esn_mc'],\n",
    "                labels=labels, zlim=zlim)"
   ]
  },
  {
   "cell_type": "markdown",
   "metadata": {
    "collapsed": false
   },
   "source": [
    "### Using a rectangular lattice instead of square"
   ]
  },
  {
   "cell_type": "code",
   "execution_count": null,
   "metadata": {
    "collapsed": false
   },
   "outputs": [],
   "source": [
    "%%script false --no-raise-error\n",
    "\n",
    "from metric import esn_nrmse\n",
    "\n",
    "params = OrderedDict()\n",
    "params['hidden_nodes'] = [25, 36, 49, 64, 81]\n",
    "params['w_res_type'] = ['rectangular']\n",
    "params['rect_ratio'] = np.arange(0.1, 3.1, 0.1)\n",
    "rect_df = experiment(esn_nrmse, params)\n",
    "rect_df.to_pickle('experiments/lattice_rect.pkl')"
   ]
  },
  {
   "cell_type": "code",
   "execution_count": null,
   "metadata": {
    "collapsed": false
   },
   "outputs": [],
   "source": [
    "from plot import plot_df_trisurf\n",
    "\n",
    "if 'rect_df' not in locals():\n",
    "    rect_df = load_experiment('experiments/lattice_rect.pkl')\n",
    "\n",
    "azim=40\n",
    "zlim=(0.4, 0.7)\n",
    "\n",
    "plot_df_trisurf(df=rect_df,\n",
    "                groupby=['hidden_nodes', 'rect_ratio'],\n",
    "                axes=['hidden_nodes', 'rect_ratio', 'esn_nrmse'],\n",
    "                azim=azim, zlim=zlim, title='Effect of rectangular lattice')"
   ]
  },
  {
   "cell_type": "markdown",
   "metadata": {
    "collapsed": false
   },
   "source": [
    "### Periodic lattice"
   ]
  },
  {
   "cell_type": "code",
   "execution_count": null,
   "metadata": {
    "collapsed": false
   },
   "outputs": [],
   "source": [
    "%%script false --no-raise-error\n",
    "\n",
    "from metric import esn_mc\n",
    "\n",
    "params = OrderedDict()\n",
    "params['hidden_nodes'] = [25, 36, 49, 64, 81]\n",
    "params['periodic'] = [True, False]\n",
    "params['w_res_type'] = ['tetragonal', 'hexagonal', 'triangular']\n",
    "periodic_df = experiment(esn_mc, params)\n",
    "periodic_df.to_pickle('experiments/periodic_lattice.pkl')"
   ]
  },
  {
   "cell_type": "code",
   "execution_count": null,
   "metadata": {
    "collapsed": false
   },
   "outputs": [],
   "source": [
    "if 'periodic_df' not in locals():\n",
    "    periodic_df = load_experiment('experiments/periodic_lattice.pkl')\n",
    "\n",
    "grouped_df = periodic_df.groupby(['hidden_nodes', 'periodic', 'w_res_type']).mean().reset_index()\n",
    "\n",
    "tetragonal = grouped_df.loc[(grouped_df['w_res_type'] == 'tetragonal') & (grouped_df['periodic'] == False)]\n",
    "tetragonal_periodic = grouped_df.loc[(grouped_df['w_res_type'] == 'tetragonal') & (grouped_df['periodic'] == True)]\n",
    "\n",
    "hexagonal = grouped_df.loc[(grouped_df['w_res_type'] == 'hexagonal') & (grouped_df['periodic'] == False)]\n",
    "hexagonal_periodic = grouped_df.loc[(grouped_df['w_res_type'] == 'hexagonal') & (grouped_df['periodic'] == True)]\n",
    "\n",
    "triangular = grouped_df.loc[(grouped_df['w_res_type'] == 'triangular') & (grouped_df['periodic'] == False)]\n",
    "triangular_periodic = grouped_df.loc[(grouped_df['w_res_type'] == 'triangular') & (grouped_df['periodic'] == True)]\n",
    "\n",
    "plt.title('Periodic lattices')\n",
    "plt.ylabel('MC')\n",
    "plt.xlabel('Hidden nodes')\n",
    "\n",
    "plt.plot(tetragonal['hidden_nodes'], tetragonal['esn_mc'], label='Tetragonal non-periodic', color='green')\n",
    "plt.plot(tetragonal_periodic['hidden_nodes'], tetragonal_periodic['esn_mc'], label='Tetragonal periodic', linestyle='--', color='green')\n",
    "\n",
    "plt.plot(hexagonal['hidden_nodes'], hexagonal['esn_mc'], label='Hexagonal non-periodic', color='red')\n",
    "plt.plot(hexagonal_periodic['hidden_nodes'], hexagonal_periodic['esn_mc'], label='Hexagonal periodic', linestyle='--', color='red')\n",
    "\n",
    "plt.plot(triangular['hidden_nodes'], triangular['esn_mc'], label='Triangular non-periodic', color='blue')\n",
    "plt.plot(triangular_periodic['hidden_nodes'], triangular_periodic['esn_mc'], label='Triangular periodic', linestyle='--', color='blue')\n",
    "\n",
    "plt.legend(fancybox=False, loc='lower right', bbox_to_anchor=(1.0, 0.0))\n",
    "\n",
    "plt.show()"
   ]
  }
 ],
 "metadata": {
  "kernelspec": {
   "argv": [
    "python",
    "-m",
    "ipykernel_launcher",
    "-f",
    "{connection_file}"
   ],
   "display_name": "Python 3",
   "env": null,
   "interrupt_mode": "signal",
   "language": "python",
   "metadata": null,
   "name": "python3"
  },
  "language_info": {
   "codemirror_mode": {
    "name": "ipython",
    "version": 3
   },
   "file_extension": ".py",
   "mimetype": "text/x-python",
   "name": "python",
   "nbconvert_exporter": "python",
   "pygments_lexer": "ipython3",
   "version": "3.6.9"
  },
  "name": "esn.ipynb"
 },
 "nbformat": 4,
 "nbformat_minor": 4
}
